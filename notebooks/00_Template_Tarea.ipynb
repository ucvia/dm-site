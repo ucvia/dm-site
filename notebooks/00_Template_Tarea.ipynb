{
  "nbformat": 4,
  "nbformat_minor": 0,
  "metadata": {
    "colab": {
      "provenance": []
    },
    "kernelspec": {
      "name": "python3",
      "display_name": "Python 3"
    },
    "language_info": {
      "name": "python"
    }
  },
  "cells": [
    {
      "cell_type": "markdown",
      "source": [
        "# __Tarea 1:__ HackerRank\n",
        "\n",
        "1. Nombre:\n",
        "1. Apellido:\n",
        "1. Correo:\n",
        "--------"
      ],
      "metadata": {
        "id": "coTVfnzpCgax"
      }
    },
    {
      "cell_type": "markdown",
      "source": [
        "\n",
        "# Python\n"
      ],
      "metadata": {
        "id": "vQqbu-XlCcka"
      }
    },
    {
      "cell_type": "markdown",
      "source": [
        "## Introduction"
      ],
      "metadata": {
        "id": "i903gdqzCmiw"
      }
    },
    {
      "cell_type": "markdown",
      "source": [
        "### 1. Say \"Hello, World!\" With Python\n",
        "\n",
        "Pueden insertar comentarios relevantes para cada ejercicio"
      ],
      "metadata": {
        "id": "U1FFePNQCokG"
      }
    },
    {
      "cell_type": "code",
      "source": [
        "if __name__ == '__main__':\n",
        "  my_string = \"Hello, World!\"\n",
        "  print(my_string)"
      ],
      "metadata": {
        "colab": {
          "base_uri": "https://localhost:8080/"
        },
        "id": "rXsG9lh6Cze-",
        "outputId": "89627242-8a74-4f99-d56b-ff7f9953c534"
      },
      "execution_count": 2,
      "outputs": [
        {
          "output_type": "stream",
          "name": "stdout",
          "text": [
            "Hello, World!\n"
          ]
        }
      ]
    },
    {
      "cell_type": "markdown",
      "source": [
        "### 2. Python If-Else"
      ],
      "metadata": {
        "id": "tYuGzMDUCS1b"
      }
    },
    {
      "cell_type": "code",
      "source": [],
      "metadata": {
        "id": "HFds14F1DCJq"
      },
      "execution_count": null,
      "outputs": []
    },
    {
      "cell_type": "markdown",
      "source": [
        "### Arithmetic Operators"
      ],
      "metadata": {
        "id": "Wy-tFOEuDJk1"
      }
    },
    {
      "cell_type": "code",
      "source": [],
      "metadata": {
        "id": "LG1KFUwDDNET"
      },
      "execution_count": null,
      "outputs": []
    },
    {
      "cell_type": "markdown",
      "source": [
        "### Seguir con el resto de ejercicios"
      ],
      "metadata": {
        "id": "0hlWBO2vDNkU"
      }
    },
    {
      "cell_type": "code",
      "source": [],
      "metadata": {
        "id": "MKrQjQHeDPvR"
      },
      "execution_count": null,
      "outputs": []
    },
    {
      "cell_type": "markdown",
      "source": [
        "## Basic Data Types"
      ],
      "metadata": {
        "id": "HNwZsdKMDQun"
      }
    },
    {
      "cell_type": "markdown",
      "source": [
        "### List Comprehensions"
      ],
      "metadata": {
        "id": "S2V5nzI1DWp1"
      }
    },
    {
      "cell_type": "code",
      "source": [],
      "metadata": {
        "id": "00DD3rDsDbnD"
      },
      "execution_count": null,
      "outputs": []
    },
    {
      "cell_type": "markdown",
      "source": [
        "### Find the Runner-Up Score!"
      ],
      "metadata": {
        "id": "MEdrNVARDdEM"
      }
    },
    {
      "cell_type": "code",
      "source": [],
      "metadata": {
        "id": "S21KJlKcDfnD"
      },
      "execution_count": null,
      "outputs": []
    },
    {
      "cell_type": "markdown",
      "source": [
        "### Seguir con el resto de ejercicios"
      ],
      "metadata": {
        "id": "pF_S-Nx5DkKr"
      }
    },
    {
      "cell_type": "code",
      "source": [],
      "metadata": {
        "id": "zIq3nPCmDkf4"
      },
      "execution_count": null,
      "outputs": []
    },
    {
      "cell_type": "markdown",
      "source": [
        "## Resto de sub dominios\n",
        ""
      ],
      "metadata": {
        "id": "NkegZ2spDlTU"
      }
    },
    {
      "cell_type": "code",
      "source": [],
      "metadata": {
        "id": "4gjzEs-KDq0Z"
      },
      "execution_count": null,
      "outputs": []
    },
    {
      "cell_type": "markdown",
      "source": [
        "# Mathematics"
      ],
      "metadata": {
        "id": "xb9MRYJdDycq"
      }
    },
    {
      "cell_type": "markdown",
      "source": [
        "## Linear Algebra Foundations"
      ],
      "metadata": {
        "id": "0TgOAAjlD9rP"
      }
    },
    {
      "cell_type": "code",
      "source": [],
      "metadata": {
        "id": "gl5mD1knDzhU"
      },
      "execution_count": null,
      "outputs": []
    },
    {
      "cell_type": "markdown",
      "source": [
        "# Artificial Intelligence"
      ],
      "metadata": {
        "id": "gGFpX-TiD0Rf"
      }
    },
    {
      "cell_type": "markdown",
      "source": [
        "## Statistics and Machine Learning"
      ],
      "metadata": {
        "id": "jOtT-qhJD2Oy"
      }
    },
    {
      "cell_type": "code",
      "source": [],
      "metadata": {
        "id": "YgGeHxt3D41i"
      },
      "execution_count": null,
      "outputs": []
    },
    {
      "cell_type": "markdown",
      "source": [
        "## Probability and Statistics - Foundations"
      ],
      "metadata": {
        "id": "fGdzch5eD5Sc"
      }
    },
    {
      "cell_type": "code",
      "source": [],
      "metadata": {
        "id": "W_6S93cyD8RI"
      },
      "execution_count": null,
      "outputs": []
    }
  ]
}