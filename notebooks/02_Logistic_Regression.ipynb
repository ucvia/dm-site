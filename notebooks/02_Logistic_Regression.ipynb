{
  "nbformat": 4,
  "nbformat_minor": 0,
  "metadata": {
    "colab": {
      "provenance": []
    },
    "kernelspec": {
      "name": "python3",
      "display_name": "Python 3"
    },
    "language_info": {
      "name": "python"
    }
  },
  "cells": [
    {
      "cell_type": "markdown",
      "source": [
        "# Aprendizaje Automático [UCV]\n",
        "\n",
        "* Autor: Fernando Crema García\n",
        "* Contacto: fernando.cremagarcia@kuleuven.be; fernando.cremagarcia@esat.kuleuven.be"
      ],
      "metadata": {
        "id": "QzrvBMd82LpL"
      }
    },
    {
      "cell_type": "markdown",
      "source": [
        "# Clasificación\n",
        "\n",
        "Recordemos que buscamos una función $f$ sobre un conjunto de *clases* que podemos llamar $C$ que es discreto y finito.\n",
        "\n",
        "## Clasificación Binaria\n",
        "\n",
        "Si $|C|=2$ decimos que estamos en un escenario de clasificación binaria. Normalmente, los valores de $C$ son $\\{-1, 1\\}$ o $\\{0, 1\\}$ dependiendo de la utilidad en la formulación del problema.\n",
        "\n",
        "Veamos el caso más sencillo de clasificación en el escenario de clasificación binaria que conecta un poco con *regresión lineal*"
      ],
      "metadata": {
        "id": "PRjclaOMzB4J"
      }
    },
    {
      "cell_type": "markdown",
      "source": [
        "# Regresión Logística"
      ],
      "metadata": {
        "id": "SDzw9ZHbzGTG"
      }
    },
    {
      "cell_type": "markdown",
      "source": [
        "## El modelo lineal\n",
        "\n",
        "Recordemos el caso de regresión donde la función $f$ es:\n",
        "\n",
        "$$f(x) = x^T\\beta = \\beta^T x \\text{ para algún } x \\in X$$\n",
        "\n",
        "siendo $X \\in \\mathbb{R}^{n, m}$ nuestro conjunto de datos que denominamos *matriz de datos*\n",
        "\n",
        "La solución cerrada (ecuaciones normales) para conseguir *el mejor modelo* para $\\beta \\in \\mathbb{R}^m$ es: $$\\beta^* = (X^T X)^{-1}X^Ty$$\n",
        "\n",
        "siendo $y \\in \\mathbb{R}^n $ el vector de respuestas de nuestro dataset $(X, y)$"
      ],
      "metadata": {
        "id": "ueHko3gbzo8Y"
      }
    },
    {
      "cell_type": "markdown",
      "source": [
        "## Discusión\n",
        "\n",
        "Cómo podríamos clasicar datos asumiendo que el setup:\n",
        "\n",
        "1. Matriz de datos $X$\n",
        "1. la variable a predecir es $y \\in \\{0, 1\\}$\n",
        "\n",
        "Para simplificar la idea, asumamos que $X \\in \\mathbb{R}$"
      ],
      "metadata": {
        "id": "woNCb5t94qKk"
      }
    },
    {
      "cell_type": "markdown",
      "source": [
        "_Colocar imágenes de discusión_"
      ],
      "metadata": {
        "id": "NYyK38oJ5RM9"
      }
    },
    {
      "cell_type": "code",
      "source": [
        "#@ plot_curve(f, _params=[], _range=(-5, 5), _points=100)\n",
        "\n",
        "import matplotlib.pyplot as plt\n",
        "\n",
        "def plot_curve(f, _params=[], _range=(-5, 5), _points=100):\n",
        "  \"\"\"\n",
        "  Método para graficar una curva f(x) cuyos parámetros fijos son _params en el rango _range(min, max) usando subsampling de _points\n",
        "\n",
        "  :param f: La función a graficar\n",
        "  :param _params: Los parámetros fijos de la función\n",
        "  :param _range: El rango de X (min, max)\n",
        "  :param _points: Número de puntos donde vamos a subsamplear a f\n",
        "\n",
        "  :returns: Nada\n",
        "  \"\"\"\n",
        "  X = np.linspace(_range[0], _range[1], _points)\n",
        "  plt.plot(X, np.array(list(map(lambda x: f(x, *_params), X))))"
      ],
      "metadata": {
        "id": "zWM-ztLD-WT6"
      },
      "execution_count": 118,
      "outputs": []
    },
    {
      "cell_type": "markdown",
      "source": [
        "### Graficando la función logística"
      ],
      "metadata": {
        "id": "AYxka75G8P7-"
      }
    },
    {
      "cell_type": "markdown",
      "source": [
        "### La función logística\n",
        "\n",
        "Conocidad también como curva sigmoide:\n",
        "\n",
        "$$f(x) = \\frac{L}{1+e^{-k(x-x_0)}}$$\n",
        "\n",
        "\n",
        "1. Qué valores usaríamos nosotros?\n"
      ],
      "metadata": {
        "id": "4rGG-dBT86uj"
      }
    },
    {
      "cell_type": "code",
      "source": [
        "import numpy as np"
      ],
      "metadata": {
        "id": "sv1RAqD1BCrE"
      },
      "execution_count": 119,
      "outputs": []
    },
    {
      "cell_type": "code",
      "source": [
        "plot_curve(f, _params=[], _range=(-5, 5), _points=100):"
      ],
      "metadata": {
        "id": "c6I4Lxusmzde"
      },
      "execution_count": null,
      "outputs": []
    },
    {
      "cell_type": "code",
      "source": [
        "f = lambda x, L, k, x0: L/(1.0 + np.exp(-1.0*k*(x-x0)))"
      ],
      "metadata": {
        "id": "OARCDcjs94XO"
      },
      "execution_count": 120,
      "outputs": []
    },
    {
      "cell_type": "code",
      "source": [
        "plot_curve(f, (1, 2, 6), _range=(-10, 10))"
      ],
      "metadata": {
        "colab": {
          "base_uri": "https://localhost:8080/",
          "height": 430
        },
        "id": "-gP5V_A5nua0",
        "outputId": "0b8960bd-93b5-4608-f288-7a9c100b10da"
      },
      "execution_count": 126,
      "outputs": [
        {
          "output_type": "display_data",
          "data": {
            "text/plain": [
              "<Figure size 640x480 with 1 Axes>"
            ],
            "image/png": "[encoded data removed]"
          },
          "metadata": {}
        }
      ]
    },
    {
      "cell_type": "code",
      "source": [
        "plot_curve(f, (1, 2, 0), _range=(-10, 10))"
      ],
      "metadata": {
        "colab": {
          "base_uri": "https://localhost:8080/",
          "height": 430
        },
        "id": "uYu5KacgnYfP",
        "outputId": "5cf54338-d314-4d31-eac2-e941a640d59c"
      },
      "execution_count": 127,
      "outputs": [
        {
          "output_type": "display_data",
          "data": {
            "text/plain": [
              "<Figure size 640x480 with 1 Axes>"
            ],
            "image/png": "[encoded data removed]"
          },
          "metadata": {}
        }
      ]
    },
    {
      "cell_type": "code",
      "source": [
        "plot_curve(f, (5, 2, 6), _range=(-10, 10))"
      ],
      "metadata": {
        "colab": {
          "base_uri": "https://localhost:8080/",
          "height": 430
        },
        "id": "LnJNtm-vnJe0",
        "outputId": "36dfd11e-8792-446c-a94b-6a86835f98cd"
      },
      "execution_count": 123,
      "outputs": [
        {
          "output_type": "display_data",
          "data": {
            "text/plain": [
              "<Figure size 640x480 with 1 Axes>"
            ],
            "image/png": "[encoded data removed]"
          },
          "metadata": {}
        }
      ]
    },
    {
      "cell_type": "code",
      "source": [
        "plot_curve(f, (5, 2, 6))"
      ],
      "metadata": {
        "colab": {
          "base_uri": "https://localhost:8080/",
          "height": 430
        },
        "id": "DFKd66MJ--cB",
        "outputId": "4b4fe9c9-12d5-4be4-e572-4eacb74c76ec"
      },
      "execution_count": 121,
      "outputs": [
        {
          "output_type": "display_data",
          "data": {
            "text/plain": [
              "<Figure size 640x480 with 1 Axes>"
            ],
            "image/png": "[encoded data removed]"
          },
          "metadata": {}
        }
      ]
    },
    {
      "cell_type": "code",
      "source": [
        "plot_curve(f, (1, 1, 0), _range=(-5, 5))"
      ],
      "metadata": {
        "colab": {
          "base_uri": "https://localhost:8080/",
          "height": 430
        },
        "id": "crFq1nUYoCg-",
        "outputId": "4e62cff3-57f1-4178-c93e-b12cef6fbf26"
      },
      "execution_count": 136,
      "outputs": [
        {
          "output_type": "display_data",
          "data": {
            "text/plain": [
              "<Figure size 640x480 with 1 Axes>"
            ],
            "image/png": "[encoded data removed]"
          },
          "metadata": {}
        }
      ]
    },
    {
      "cell_type": "markdown",
      "source": [
        "### Scipy"
      ],
      "metadata": {
        "id": "0N2xXf0l89gm"
      }
    },
    {
      "cell_type": "code",
      "source": [
        "from scipy.stats import logistic\n",
        "# logistic.cdf -> cummalitive density function\n",
        "\n",
        "FDA\n",
        "\n",
        "P(x<=X)"
      ],
      "metadata": {
        "id": "kzGbPnXm76ac"
      },
      "execution_count": 137,
      "outputs": []
    },
    {
      "cell_type": "code",
      "source": [
        "plot_curve(logistic.cdf)"
      ],
      "metadata": {
        "colab": {
          "base_uri": "https://localhost:8080/",
          "height": 430
        },
        "id": "5AZ73f1H8U70",
        "outputId": "bbf8571e-9941-447a-884f-e67a8b043a3c"
      },
      "execution_count": 46,
      "outputs": [
        {
          "output_type": "display_data",
          "data": {
            "text/plain": [
              "<Figure size 640x480 with 1 Axes>"
            ],
            "image/png": "[encoded data removed]"
          },
          "metadata": {}
        }
      ]
    },
    {
      "cell_type": "markdown",
      "source": [
        "## El modelo logístico\n",
        "\n",
        "Supongamos que tenemos una matriz de datos $X$ y la variable a predecir es $y \\in \\{0, 1\\}$\n",
        "\n",
        "En general, buscamos conseguir predecir _la probabilidad_ de que una instancia de nuestro dataset $x_i$ pertenezca a una categoría $0$ o $1$.\n",
        "\n",
        "Si recordamos definición de probabilidad condicional, queremos $P(y_i| x_i)$ para todo $i$ en el dataset.\n",
        "\n",
        "Asumamos por simplicidad que $x_i$ es solo una columna.\n",
        "\n",
        "Buscamos $P(y_i=1 | x_i=a)$ y $P(y_i=0 | x_i=a)$ para decidir si $x_i$ pertenece a la clase $1$ o $0$, respectivamente.\n",
        "\n",
        "### El caso simple\n",
        "\n",
        "El caso simple para regresión logística\n",
        "\n",
        "$$\n",
        "f(x)=\\frac{e^{\\beta_0+\\beta_1 x}}{1+e^{\\beta_0+\\beta_1 x}}\n",
        "$$\n",
        "\n",
        "1. Cómo podemos reescribir la definición que tenemos? $$ f(x)=\\frac{L}{1+e^{-k\\left(x-x_0\\right)}}$$\n",
        "\n",
        "#### Propiedad importante de f\n",
        "\n",
        "Con manipulaciones simples, podemos demostrar que:\n",
        "\n",
        "$$\\frac{f(x)}{1-f(x)}=e^{\\beta_0+\\beta_1 x}$$\n",
        "\n",
        "Por lo que,\n",
        "\n",
        "$$\\log \\left(\\frac{f(x)}{1-f(x)}\\right)=\\beta_0+\\beta_1 x$$\n",
        "\n",
        "#### Tenemos f, quién es L?\n",
        "\n",
        "Usando la función de verosimilitud (likelihood) asumiendo independencia para cada instancia de $X$ buscamos:\n",
        "\n",
        "$$L\\left(\\beta_0, \\beta_1\\right)=\\prod_{i} f\\left(x_i\\right)^{y_i} \\left(1-f\\left(x_{i}\\right)\\right)^{1-y_i} $$\n",
        "\n",
        "Cuya representación algunas veces varía a:\n",
        "\n",
        "$$L\\left(\\beta_0, \\beta_1\\right)=\\prod_{i: y_i=1} f\\left(x_i\\right) \\prod_{i^{\\prime}: y_{i^{\\prime}}=0}\\left(1-f\\left(x_{i^{\\prime}}\\right)\\right) $$\n",
        "\n",
        "#### Predicción\n",
        "\n",
        "Una vez que conseguimos el modelo óptimo $\\beta^*$, la predicción es:\n",
        "\n",
        "$$\\hat{p}(x_i)=\\frac{e^{\\beta^*_0+\\beta^*_1 x_i}}{1+e^{\\beta^*_0+\\beta^*_1 x_i}}$$"
      ],
      "metadata": {
        "id": "wCsv8lndzIYd"
      }
    },
    {
      "cell_type": "markdown",
      "source": [
        "### Regresión Logística Múltiple\n",
        "\n",
        "Consideramos ahora el problema de predecir una clase binaria con múltiples predictores. Haciendo analogía y extendiendo la idea de regresión logística simple tenemos:\n",
        "\n",
        "$$\n",
        "\\log \\left(\\frac{f(x)}{1-f(x)}\\right)= \\beta^T x = \\beta_0+\\beta_1 x_0+\\cdots+\\beta_m x_m\n",
        "$$\n",
        "donde $x=\\left(x_1, \\ldots, x_m\\right)$ son los $m$ predictores. Y la función de predicción es\n",
        "$$\n",
        "f(x)=\\frac{e^{x^T \\beta^* }}{1+e^{x^T \\beta^* }}=\\frac{e^{\\beta_0+\\beta_1 x_1+\\cdots+\\beta_m x_m}}{1+e^{\\beta_0+\\beta_1 x_1+\\cdots+\\beta_m x_m}} .\n",
        "$$"
      ],
      "metadata": {
        "id": "DqWbRo4DPsMt"
      }
    },
    {
      "cell_type": "markdown",
      "source": [
        "\n",
        "\n",
        "Usaremos el módulo [LogisticRegression](https://scikit-learn.org/stable/modules/generated/sklearn.linear_model.LogisticRegression.html#sklearn.linear_model.LogisticRegression.decision_function) de Scikit-Learn"
      ],
      "metadata": {
        "id": "A5CdhR47zsmD"
      }
    },
    {
      "cell_type": "code",
      "execution_count": 138,
      "metadata": {
        "id": "1DU9ffpTdFeZ"
      },
      "outputs": [],
      "source": [
        "from sklearn.datasets import load_iris\n",
        "from sklearn.linear_model import LogisticRegression"
      ]
    },
    {
      "cell_type": "markdown",
      "source": [
        "#### Caso binario"
      ],
      "metadata": {
        "id": "xptv7u0gK0kH"
      }
    },
    {
      "cell_type": "code",
      "source": [
        "X, y = load_iris(return_X_y=True)"
      ],
      "metadata": {
        "id": "AumDM33_K31j"
      },
      "execution_count": 146,
      "outputs": []
    },
    {
      "cell_type": "code",
      "source": [
        "X.shape"
      ],
      "metadata": {
        "colab": {
          "base_uri": "https://localhost:8080/"
        },
        "id": "fkePEQsavIqu",
        "outputId": "734a2220-b4d6-43f5-cbe4-ad5c5f73d35b"
      },
      "execution_count": 141,
      "outputs": [
        {
          "output_type": "execute_result",
          "data": {
            "text/plain": [
              "(150, 4)"
            ]
          },
          "metadata": {},
          "execution_count": 141
        }
      ]
    },
    {
      "cell_type": "code",
      "source": [
        "y.shape"
      ],
      "metadata": {
        "colab": {
          "base_uri": "https://localhost:8080/"
        },
        "id": "R9Cnuu-5vMnC",
        "outputId": "e0f2352c-5744-46ac-944e-fd0d44cf4d88"
      },
      "execution_count": 142,
      "outputs": [
        {
          "output_type": "execute_result",
          "data": {
            "text/plain": [
              "(150,)"
            ]
          },
          "metadata": {},
          "execution_count": 142
        }
      ]
    },
    {
      "cell_type": "code",
      "source": [
        "y"
      ],
      "metadata": {
        "colab": {
          "base_uri": "https://localhost:8080/"
        },
        "id": "UmHBPcqCK-JC",
        "outputId": "984e257b-8596-4f39-f57f-b53a90ca6aaa"
      },
      "execution_count": 100,
      "outputs": [
        {
          "output_type": "execute_result",
          "data": {
            "text/plain": [
              "array([0, 0, 0, 0, 0, 0, 0, 0, 0, 0, 0, 0, 0, 0, 0, 0, 0, 0, 0, 0, 0, 0,\n",
              "       0, 0, 0, 0, 0, 0, 0, 0, 0, 0, 0, 0, 0, 0, 0, 0, 0, 0, 0, 0, 0, 0,\n",
              "       0, 0, 0, 0, 0, 0, 1, 1, 1, 1, 1, 1, 1, 1, 1, 1, 1, 1, 1, 1, 1, 1,\n",
              "       1, 1, 1, 1, 1, 1, 1, 1, 1, 1, 1, 1, 1, 1, 1, 1, 1, 1, 1, 1, 1, 1,\n",
              "       1, 1, 1, 1, 1, 1, 1, 1, 1, 1, 1, 1, 2, 2, 2, 2, 2, 2, 2, 2, 2, 2,\n",
              "       2, 2, 2, 2, 2, 2, 2, 2, 2, 2, 2, 2, 2, 2, 2, 2, 2, 2, 2, 2, 2, 2,\n",
              "       2, 2, 2, 2, 2, 2, 2, 2, 2, 2, 2, 2, 2, 2, 2, 2, 2, 2])"
            ]
          },
          "metadata": {},
          "execution_count": 100
        }
      ]
    },
    {
      "cell_type": "code",
      "source": [
        "y > 0"
      ],
      "metadata": {
        "colab": {
          "base_uri": "https://localhost:8080/"
        },
        "id": "G_nBhQjpvYrm",
        "outputId": "aca6efd1-e114-4571-c8ac-297d89b4d973"
      },
      "execution_count": 143,
      "outputs": [
        {
          "output_type": "execute_result",
          "data": {
            "text/plain": [
              "array([False, False, False, False, False, False, False, False, False,\n",
              "       False, False, False, False, False, False, False, False, False,\n",
              "       False, False, False, False, False, False, False, False, False,\n",
              "       False, False, False, False, False, False, False, False, False,\n",
              "       False, False, False, False, False, False, False, False, False,\n",
              "       False, False, False, False, False,  True,  True,  True,  True,\n",
              "        True,  True,  True,  True,  True,  True,  True,  True,  True,\n",
              "        True,  True,  True,  True,  True,  True,  True,  True,  True,\n",
              "        True,  True,  True,  True,  True,  True,  True,  True,  True,\n",
              "        True,  True,  True,  True,  True,  True,  True,  True,  True,\n",
              "        True,  True,  True,  True,  True,  True,  True,  True,  True,\n",
              "        True,  True,  True,  True,  True,  True,  True,  True,  True,\n",
              "        True,  True,  True,  True,  True,  True,  True,  True,  True,\n",
              "        True,  True,  True,  True,  True,  True,  True,  True,  True,\n",
              "        True,  True,  True,  True,  True,  True,  True,  True,  True,\n",
              "        True,  True,  True,  True,  True,  True,  True,  True,  True,\n",
              "        True,  True,  True,  True,  True,  True])"
            ]
          },
          "metadata": {},
          "execution_count": 143
        }
      ]
    },
    {
      "cell_type": "code",
      "source": [
        "y = np.array(y>0).astype(int)"
      ],
      "metadata": {
        "id": "twy1eoS7K5Ha"
      },
      "execution_count": 165,
      "outputs": []
    },
    {
      "cell_type": "code",
      "source": [
        "arr = []\n",
        "for yi in y:\n",
        "  if yi == 0:\n",
        "    arr.append(0)\n",
        "  else:\n",
        "    arr.append(1)\n",
        "np.array(arr)"
      ],
      "metadata": {
        "colab": {
          "base_uri": "https://localhost:8080/"
        },
        "id": "f1B3QFNXvkAG",
        "outputId": "76100b77-9aea-4ae9-f9cc-09af797d9eac"
      },
      "execution_count": 149,
      "outputs": [
        {
          "output_type": "execute_result",
          "data": {
            "text/plain": [
              "array([0, 0, 0, 0, 0, 0, 0, 0, 0, 0, 0, 0, 0, 0, 0, 0, 0, 0, 0, 0, 0, 0,\n",
              "       0, 0, 0, 0, 0, 0, 0, 0, 0, 0, 0, 0, 0, 0, 0, 0, 0, 0, 0, 0, 0, 0,\n",
              "       0, 0, 0, 0, 0, 0, 1, 1, 1, 1, 1, 1, 1, 1, 1, 1, 1, 1, 1, 1, 1, 1,\n",
              "       1, 1, 1, 1, 1, 1, 1, 1, 1, 1, 1, 1, 1, 1, 1, 1, 1, 1, 1, 1, 1, 1,\n",
              "       1, 1, 1, 1, 1, 1, 1, 1, 1, 1, 1, 1, 1, 1, 1, 1, 1, 1, 1, 1, 1, 1,\n",
              "       1, 1, 1, 1, 1, 1, 1, 1, 1, 1, 1, 1, 1, 1, 1, 1, 1, 1, 1, 1, 1, 1,\n",
              "       1, 1, 1, 1, 1, 1, 1, 1, 1, 1, 1, 1, 1, 1, 1, 1, 1, 1])"
            ]
          },
          "metadata": {},
          "execution_count": 149
        }
      ]
    },
    {
      "cell_type": "code",
      "source": [
        "np.array([0 if yi==0 else 1 for yi in y])"
      ],
      "metadata": {
        "colab": {
          "base_uri": "https://localhost:8080/"
        },
        "id": "EgPuFO8fv49C",
        "outputId": "be2cb7ff-7c70-4e7f-f207-c35a0d8f9033"
      },
      "execution_count": 151,
      "outputs": [
        {
          "output_type": "execute_result",
          "data": {
            "text/plain": [
              "array([0, 0, 0, 0, 0, 0, 0, 0, 0, 0, 0, 0, 0, 0, 0, 0, 0, 0, 0, 0, 0, 0,\n",
              "       0, 0, 0, 0, 0, 0, 0, 0, 0, 0, 0, 0, 0, 0, 0, 0, 0, 0, 0, 0, 0, 0,\n",
              "       0, 0, 0, 0, 0, 0, 1, 1, 1, 1, 1, 1, 1, 1, 1, 1, 1, 1, 1, 1, 1, 1,\n",
              "       1, 1, 1, 1, 1, 1, 1, 1, 1, 1, 1, 1, 1, 1, 1, 1, 1, 1, 1, 1, 1, 1,\n",
              "       1, 1, 1, 1, 1, 1, 1, 1, 1, 1, 1, 1, 1, 1, 1, 1, 1, 1, 1, 1, 1, 1,\n",
              "       1, 1, 1, 1, 1, 1, 1, 1, 1, 1, 1, 1, 1, 1, 1, 1, 1, 1, 1, 1, 1, 1,\n",
              "       1, 1, 1, 1, 1, 1, 1, 1, 1, 1, 1, 1, 1, 1, 1, 1, 1, 1])"
            ]
          },
          "metadata": {},
          "execution_count": 151
        }
      ]
    },
    {
      "cell_type": "code",
      "source": [
        "y"
      ],
      "metadata": {
        "colab": {
          "base_uri": "https://localhost:8080/"
        },
        "id": "gM3DUMCLvhQP",
        "outputId": "068bcf90-1ad5-4c9c-e616-5585b5c70267"
      },
      "execution_count": 145,
      "outputs": [
        {
          "output_type": "execute_result",
          "data": {
            "text/plain": [
              "array([0, 0, 0, 0, 0, 0, 0, 0, 0, 0, 0, 0, 0, 0, 0, 0, 0, 0, 0, 0, 0, 0,\n",
              "       0, 0, 0, 0, 0, 0, 0, 0, 0, 0, 0, 0, 0, 0, 0, 0, 0, 0, 0, 0, 0, 0,\n",
              "       0, 0, 0, 0, 0, 0, 1, 1, 1, 1, 1, 1, 1, 1, 1, 1, 1, 1, 1, 1, 1, 1,\n",
              "       1, 1, 1, 1, 1, 1, 1, 1, 1, 1, 1, 1, 1, 1, 1, 1, 1, 1, 1, 1, 1, 1,\n",
              "       1, 1, 1, 1, 1, 1, 1, 1, 1, 1, 1, 1, 1, 1, 1, 1, 1, 1, 1, 1, 1, 1,\n",
              "       1, 1, 1, 1, 1, 1, 1, 1, 1, 1, 1, 1, 1, 1, 1, 1, 1, 1, 1, 1, 1, 1,\n",
              "       1, 1, 1, 1, 1, 1, 1, 1, 1, 1, 1, 1, 1, 1, 1, 1, 1, 1])"
            ]
          },
          "metadata": {},
          "execution_count": 145
        }
      ]
    },
    {
      "cell_type": "code",
      "source": [
        "# random_state -> \"la semilla (seed) de los RNG (random number generators)\" -> Reproducibilidad\n",
        "\n",
        "model = LogisticRegression(max_iter=1000, random_state=0).fit(X, y)"
      ],
      "metadata": {
        "id": "Uv6Bn2p0wTLu"
      },
      "execution_count": 154,
      "outputs": []
    },
    {
      "cell_type": "code",
      "source": [
        "# penalty = None -> No tener regularización, LASSO y Ridge.\n",
        "model = LogisticRegression(random_state=0, max_iter=1000, penalty=None).fit(X, y)"
      ],
      "metadata": {
        "id": "s15Em648LrrK"
      },
      "execution_count": 166,
      "outputs": []
    },
    {
      "cell_type": "code",
      "source": [
        "model.predict(X[:2, :])"
      ],
      "metadata": {
        "colab": {
          "base_uri": "https://localhost:8080/"
        },
        "id": "FaVC2rXzLwVP",
        "outputId": "f041a81e-4612-4b42-8497-3c238321e162"
      },
      "execution_count": 167,
      "outputs": [
        {
          "output_type": "execute_result",
          "data": {
            "text/plain": [
              "array([0, 0])"
            ]
          },
          "metadata": {},
          "execution_count": 167
        }
      ]
    },
    {
      "cell_type": "code",
      "source": [
        "model.predict(X[:50, :])"
      ],
      "metadata": {
        "colab": {
          "base_uri": "https://localhost:8080/"
        },
        "id": "e70zuRBhyo4H",
        "outputId": "1a840cdc-d0e9-450d-f614-0dcabb45de5d"
      },
      "execution_count": 171,
      "outputs": [
        {
          "output_type": "execute_result",
          "data": {
            "text/plain": [
              "array([0, 0, 0, 0, 0, 0, 0, 0, 0, 0, 0, 0, 0, 0, 0, 0, 0, 0, 0, 0, 0, 0,\n",
              "       0, 0, 0, 0, 0, 0, 0, 0, 0, 0, 0, 0, 0, 0, 0, 0, 0, 0, 0, 0, 0, 0,\n",
              "       0, 0, 0, 0, 0, 0])"
            ]
          },
          "metadata": {},
          "execution_count": 171
        }
      ]
    },
    {
      "cell_type": "code",
      "source": [
        "X[:2, :]"
      ],
      "metadata": {
        "colab": {
          "base_uri": "https://localhost:8080/"
        },
        "id": "XIMOh9fdyBXH",
        "outputId": "ee900a82-5bfc-4b64-da95-0389a101a14c"
      },
      "execution_count": 163,
      "outputs": [
        {
          "output_type": "execute_result",
          "data": {
            "text/plain": [
              "array([[5.1, 3.5, 1.4, 0.2],\n",
              "       [4.9, 3. , 1.4, 0.2]])"
            ]
          },
          "metadata": {},
          "execution_count": 163
        }
      ]
    },
    {
      "cell_type": "code",
      "source": [
        "model.predict_proba(X[:1, :])"
      ],
      "metadata": {
        "colab": {
          "base_uri": "https://localhost:8080/"
        },
        "id": "_uHsGei3Lyns",
        "outputId": "0fd4cd7d-6ad6-4568-85ad-ba2327408f38"
      },
      "execution_count": 172,
      "outputs": [
        {
          "output_type": "execute_result",
          "data": {
            "text/plain": [
              "array([[9.99999996e-01, 3.94190051e-09]])"
            ]
          },
          "metadata": {},
          "execution_count": 172
        }
      ]
    },
    {
      "cell_type": "code",
      "source": [
        "[0.99..9 0]"
      ],
      "metadata": {
        "id": "WqvCM2w8yeBK"
      },
      "execution_count": null,
      "outputs": []
    },
    {
      "cell_type": "code",
      "source": [
        "model.intercept_"
      ],
      "metadata": {
        "colab": {
          "base_uri": "https://localhost:8080/"
        },
        "id": "WYrAVJZZL1rA",
        "outputId": "d8b91806-2d0c-44a7-ea6e-33440f77a923"
      },
      "execution_count": 105,
      "outputs": [
        {
          "output_type": "execute_result",
          "data": {
            "text/plain": [
              "array([-1.18494836])"
            ]
          },
          "metadata": {},
          "execution_count": 105
        }
      ]
    },
    {
      "cell_type": "code",
      "source": [
        "model.coef_"
      ],
      "metadata": {
        "colab": {
          "base_uri": "https://localhost:8080/"
        },
        "id": "eWKxFG1bL3RB",
        "outputId": "2eddfba8-6ecf-427a-b79b-abc3881d25eb"
      },
      "execution_count": 106,
      "outputs": [
        {
          "output_type": "execute_result",
          "data": {
            "text/plain": [
              "array([[-2.02162242, -6.99849918, 11.14813559,  5.15488554]])"
            ]
          },
          "metadata": {},
          "execution_count": 106
        }
      ]
    },
    {
      "cell_type": "markdown",
      "source": [
        "$$"
      ],
      "metadata": {
        "id": "gD8x2-yWzB9S"
      }
    },
    {
      "cell_type": "markdown",
      "source": [
        "##### Estamos haciendo los mismos cálculos?"
      ],
      "metadata": {
        "id": "r9j1q8ZpL6Mx"
      }
    },
    {
      "cell_type": "code",
      "source": [
        "X[:1, :] @ model.coef_[0]"
      ],
      "metadata": {
        "colab": {
          "base_uri": "https://localhost:8080/"
        },
        "id": "YCP4hABBMW0D",
        "outputId": "573de32a-bdcf-4934-b12a-1087dfdcb319"
      },
      "execution_count": 112,
      "outputs": [
        {
          "output_type": "execute_result",
          "data": {
            "text/plain": [
              "array([-18.16665451])"
            ]
          },
          "metadata": {},
          "execution_count": 112
        }
      ]
    },
    {
      "cell_type": "code",
      "source": [
        "X[:1, :] @ model.coef_[0] + model.intercept_"
      ],
      "metadata": {
        "colab": {
          "base_uri": "https://localhost:8080/"
        },
        "id": "fD7gpkyDMW45",
        "outputId": "159c1c50-f98d-46c7-bb0e-6719d1172b3b"
      },
      "execution_count": 113,
      "outputs": [
        {
          "output_type": "execute_result",
          "data": {
            "text/plain": [
              "array([-19.35160286])"
            ]
          },
          "metadata": {},
          "execution_count": 113
        }
      ]
    },
    {
      "cell_type": "code",
      "source": [
        "np.exp(X[:1, :] @ model.coef_[0] + model.intercept_)"
      ],
      "metadata": {
        "colab": {
          "base_uri": "https://localhost:8080/"
        },
        "id": "8QYtk22WMBx0",
        "outputId": "df999d4a-ea3d-4f95-d94e-f935b3e9c6b1"
      },
      "execution_count": 114,
      "outputs": [
        {
          "output_type": "execute_result",
          "data": {
            "text/plain": [
              "array([3.94190053e-09])"
            ]
          },
          "metadata": {},
          "execution_count": 114
        }
      ]
    },
    {
      "cell_type": "markdown",
      "source": [
        "Ahora tenemos 4 parámetros por columna `_coef` más el punto de corte `intercept`\n",
        "\n",
        "$$\\hat{p}(x_0)=\\frac{e^{x^T \\beta^* }}{1+e^{x^T \\beta^* }}=\\frac{e^{\\beta^*_0+\\beta^*_1 x_{00}+\\beta^*_2 x_{01}+\\beta^*_3 x_{02}+\\beta^*_1 x_{03}}}{1+e^{\\beta^*_0+\\beta^*_1 x_{00}+\\beta^*_2 x_{01}+\\beta^*_3 x_{02}+\\beta^*_1 x_{03}}}$$"
      ],
      "metadata": {
        "id": "YkfJ1KuxMixL"
      }
    },
    {
      "cell_type": "code",
      "source": [
        "np.exp(X[:1, :] @ model.coef_[0] + model.intercept_) / (1 + np.exp(X[:1, :] @ model.coef_[0] + model.intercept_))"
      ],
      "metadata": {
        "colab": {
          "base_uri": "https://localhost:8080/"
        },
        "id": "p39pQ8reMb8q",
        "outputId": "797fbdc6-36e0-43ad-a7dc-d59f25091cb1"
      },
      "execution_count": 173,
      "outputs": [
        {
          "output_type": "execute_result",
          "data": {
            "text/plain": [
              "array([3.94190051e-09])"
            ]
          },
          "metadata": {},
          "execution_count": 173
        }
      ]
    },
    {
      "cell_type": "markdown",
      "source": [
        "$$1-\\hat{p}(x_i)=1-\\frac{e^{\\beta^*_0+\\beta^*_1 x_i}}{1+e^{\\beta^*_0+\\beta^*_1 x_i}}$$"
      ],
      "metadata": {
        "id": "XlOtWbiMMs7d"
      }
    },
    {
      "cell_type": "code",
      "source": [
        "np.array([1.0]) - np.exp(X[:1, :] @ model.coef_[0] + model.intercept_) / (1 + np.exp(X[:1, :] @ model.coef_[0] + model.intercept_))"
      ],
      "metadata": {
        "colab": {
          "base_uri": "https://localhost:8080/"
        },
        "id": "2wzX7EUrMvcN",
        "outputId": "aa217531-4a8f-44cf-d188-4ae4130e2c95"
      },
      "execution_count": 174,
      "outputs": [
        {
          "output_type": "execute_result",
          "data": {
            "text/plain": [
              "array([1.])"
            ]
          },
          "metadata": {},
          "execution_count": 174
        }
      ]
    },
    {
      "cell_type": "markdown",
      "source": [
        "### Caso Multinomial\n",
        "\n",
        "Es posible extender la definición para casos con más de 1 clase y además con $m>1$\n",
        "\n",
        "Asumamos que $|C| = K$\n",
        "\n",
        "$$\n",
        "\\operatorname{Pr}(y=k \\mid X=x)=\\frac{e^{\\beta_{k 0}+\\beta_{k 1} x_1+\\cdots+\\beta_{k m} x_m}}{1+\\sum_{l=1}^{K-1} e^{\\beta_{l 0}+\\beta_{l 1} x_1+\\cdots+\\beta_{l m} x_m}}\n",
        "$$\n",
        "para $k=1, \\ldots, K-1$, y\n",
        "$$\n",
        "\\operatorname{Pr}(y=K \\mid X=x)=\\frac{1}{1+\\sum_{l=1}^{K-1} e^{\\beta_{l 0}+\\beta_{l 1} x_1+\\cdots+\\beta_{l m} x_m}} .\n",
        "$$\n",
        "\n",
        "No es difícil probar que: $k=1, \\ldots, K-1$,\n",
        "$$\n",
        "\\log \\left(\\frac{\\operatorname{Pr}(y=k \\mid X=x)}{\\operatorname{Pr}(Y=K \\mid X=x)}\\right)=\\beta_{k 0}+\\beta_{k 1} x_1+\\cdots+\\beta_{k m} x_m\n",
        "$$\n"
      ],
      "metadata": {
        "id": "yQ9TeYfVKpGR"
      }
    },
    {
      "cell_type": "code",
      "source": [
        "X, y = load_iris(return_X_y=True)"
      ],
      "metadata": {
        "id": "Q8k0jpRXCmbh"
      },
      "execution_count": 175,
      "outputs": []
    },
    {
      "cell_type": "code",
      "source": [
        "X[:2, :]"
      ],
      "metadata": {
        "colab": {
          "base_uri": "https://localhost:8080/"
        },
        "id": "8kftww33H3X0",
        "outputId": "1737746d-03da-4db3-bd1a-307753decf41"
      },
      "execution_count": 176,
      "outputs": [
        {
          "output_type": "execute_result",
          "data": {
            "text/plain": [
              "array([[5.1, 3.5, 1.4, 0.2],\n",
              "       [4.9, 3. , 1.4, 0.2]])"
            ]
          },
          "metadata": {},
          "execution_count": 176
        }
      ]
    },
    {
      "cell_type": "code",
      "source": [
        "model = LogisticRegression(random_state=0, max_iter=10000, penalty=None, multi_class=\"multinomial\").fit(X, y)"
      ],
      "metadata": {
        "id": "nm0Ertq6Cmhe"
      },
      "execution_count": 178,
      "outputs": []
    },
    {
      "cell_type": "code",
      "source": [
        "model.predict(X[:2, :])"
      ],
      "metadata": {
        "colab": {
          "base_uri": "https://localhost:8080/"
        },
        "id": "DaFaOzb7Cmll",
        "outputId": "bc225b02-47e4-4afe-e15a-bf3d7bf00bf0"
      },
      "execution_count": 179,
      "outputs": [
        {
          "output_type": "execute_result",
          "data": {
            "text/plain": [
              "array([0, 0])"
            ]
          },
          "metadata": {},
          "execution_count": 179
        }
      ]
    },
    {
      "cell_type": "code",
      "source": [
        "model.predict_proba(X[:2, :])"
      ],
      "metadata": {
        "colab": {
          "base_uri": "https://localhost:8080/"
        },
        "id": "LvhbduXNCmoC",
        "outputId": "8af24c56-8502-4a04-c68e-c6462b9370f4"
      },
      "execution_count": 180,
      "outputs": [
        {
          "output_type": "execute_result",
          "data": {
            "text/plain": [
              "array([[1.00000000e+00, 2.09745715e-31, 3.23880813e-58],\n",
              "       [1.00000000e+00, 1.23379546e-24, 8.80642052e-50]])"
            ]
          },
          "metadata": {},
          "execution_count": 180
        }
      ]
    },
    {
      "cell_type": "code",
      "source": [
        "model.score(X, y)"
      ],
      "metadata": {
        "colab": {
          "base_uri": "https://localhost:8080/"
        },
        "id": "4K27b-RbCxjf",
        "outputId": "8b480249-35b4-410c-fbf7-56c4837b3742"
      },
      "execution_count": 81,
      "outputs": [
        {
          "output_type": "execute_result",
          "data": {
            "text/plain": [
              "0.9866666666666667"
            ]
          },
          "metadata": {},
          "execution_count": 81
        }
      ]
    },
    {
      "cell_type": "code",
      "source": [
        "model.intercept_"
      ],
      "metadata": {
        "colab": {
          "base_uri": "https://localhost:8080/"
        },
        "id": "-LPHb1yiHvsn",
        "outputId": "1648c3b4-8ae2-468f-bcee-65ae2b481096"
      },
      "execution_count": 181,
      "outputs": [
        {
          "output_type": "execute_result",
          "data": {
            "text/plain": [
              "array([  3.97751891,  19.33028473, -23.30780364])"
            ]
          },
          "metadata": {},
          "execution_count": 181
        }
      ]
    },
    {
      "cell_type": "code",
      "source": [
        "model.coef_"
      ],
      "metadata": {
        "colab": {
          "base_uri": "https://localhost:8080/"
        },
        "id": "NcDfxPeTIf12",
        "outputId": "55ede189-ca9d-402e-b754-622e3880ce45"
      },
      "execution_count": 83,
      "outputs": [
        {
          "output_type": "execute_result",
          "data": {
            "text/plain": [
              "array([[  7.35275466,  20.39784579, -30.26354695, -14.14340745],\n",
              "       [ -2.44378438,  -6.85846875,  10.41707167,  -2.07137781],\n",
              "       [ -4.90897028, -13.53937704,  19.84647528,  16.21478526]])"
            ]
          },
          "metadata": {},
          "execution_count": 83
        }
      ]
    }
  ]
}